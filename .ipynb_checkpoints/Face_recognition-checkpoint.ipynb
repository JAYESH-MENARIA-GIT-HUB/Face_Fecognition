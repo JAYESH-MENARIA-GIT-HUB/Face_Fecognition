{
 "cells": [
  {
   "cell_type": "code",
   "execution_count": 15,
   "metadata": {
    "id": "2B637T4RMlOR"
   },
   "outputs": [],
   "source": [
    "import numpy as np\n",
    "import cv2\n",
    "import face_recognition as fr\n",
    "import matplotlib.pyplot as plt\n",
    "import dlib"
   ]
  },
  {
   "cell_type": "code",
   "execution_count": 39,
   "metadata": {
    "id": "C3IWvycpvPo4"
   },
   "outputs": [],
   "source": [
    "def take_photo():\n",
    "    cam = cv2.VideoCapture(0)\n",
    "    while True:\n",
    "        ret, frame = cam.read()\n",
    "        frame = cv2.flip(frame,1)\n",
    "        duplicate = frame.copy()\n",
    "        gray_frame = cv2.cvtColor(frame,cv2.COLOR_BGR2GRAY)\n",
    "        face_boundry = fr.face_locations(gray_frame)\n",
    "\n",
    "        if face_boundry == []:\n",
    "            txt = \"There is no human face\"\n",
    "            cv2.putText(frame,txt,(100,200),cv2.FONT_HERSHEY_COMPLEX,1,(0,0,0),3)\n",
    "        elif np.array(face_boundry).shape[0] == 1:\n",
    "            x,y,w,h = face_boundry[0]\n",
    "            point1 , point2 = frame.shape[:-1]\n",
    "            cv2.rectangle(frame,(h,x),(y,w),(255,20,20),2)\n",
    "            cv2.putText(frame,\"Face Is Detectd \",(100,50),1,cv2.FONT_HERSHEY_COMPLEX,(10,255,10),2)\n",
    "            cv2.putText(frame,\"Press q when complete \",(point1-450, point2-200),1,cv2.FONT_HERSHEY_COMPLEX,(50,255,200),2)\n",
    "\n",
    "            croped_img = duplicate[x-50:x+y, h-20:h-w]\n",
    "            file_name_path = 'Face/' + 'perfect' + '.jpg'\n",
    "            cv2.imwrite(file_name_path, croped_img)\n",
    "\n",
    "        else:\n",
    "            for face in face_boundry:\n",
    "                x,y,w,h = face\n",
    "                cv2.rectangle(frame,(h,x),(y,w),(0,0,255),2)\n",
    "                cv2.putText(frame,\"Too many faces\",(50,50),1,cv2.FONT_HERSHEY_COMPLEX,(255,20,20),2)\n",
    "        cv2.imshow(\"camera\", frame)\n",
    "        if cv2.waitKey(1) == ord(\"q\"):\n",
    "            break\n",
    "    cam.release()\n",
    "    cv2.destroyAllWindows()\n",
    "    return file_name_path"
   ]
  },
  {
   "cell_type": "code",
   "execution_count": 44,
   "metadata": {
    "colab": {
     "base_uri": "https://localhost:8080/"
    },
    "executionInfo": {
     "elapsed": 51440,
     "status": "ok",
     "timestamp": 1638682180494,
     "user": {
      "displayName": "jayesh Menaria",
      "photoUrl": "https://lh3.googleusercontent.com/a-/AOh14GjfIm7GC4eQYLxL8CJpSx4_Ow1wejhvP-pBws--=s64",
      "userId": "16566300595735937464"
     },
     "user_tz": -330
    },
    "id": "v0PK-cf1wYpZ",
    "outputId": "d7b4548c-8706-478c-bc58-120462f9daa0"
   },
   "outputs": [],
   "source": [
    "file_path = take_photo()"
   ]
  },
  {
   "cell_type": "code",
   "execution_count": 45,
   "metadata": {
    "id": "kj7PGbGT_oQo"
   },
   "outputs": [],
   "source": [
    "image = fr.load_image_file(file_path)\n",
    "gray_img = cv2.cvtColor(image,cv2.COLOR_BGR2RGB)\n",
    "encod_test = fr.face_encodings(gray_img)"
   ]
  },
  {
   "cell_type": "code",
   "execution_count": 47,
   "metadata": {
    "id": "A9IMBox5BJJV"
   },
   "outputs": [],
   "source": [
    "cam = cv2.VideoCapture(0)\n",
    "while True:\n",
    "    ret, frame = cam.read()\n",
    "    frame = cv2.flip(frame,1)\n",
    "\n",
    "    bgr_frame = cv2.cvtColor(frame,cv2.COLOR_BGR2RGB)\n",
    "    gray_frame = cv2.cvtColor(frame,cv2.COLOR_BGR2GRAY)\n",
    "    face_boundry = fr.face_locations(gray_frame)\n",
    "\n",
    "    if face_boundry == []:\n",
    "        txt = \"There is no human face\"\n",
    "        cv2.putText(frame,txt,(100,200),cv2.FONT_HERSHEY_COMPLEX,1,(0,0,0),3)\n",
    "    elif np.array(face_boundry).shape[0] == 1:\n",
    "        encod_apply = fr.face_encodings(bgr_frame)\n",
    "\n",
    "        if encod_apply == []:\n",
    "              match = [False]\n",
    "        else:\n",
    "            match = fr.compare_faces(encod_test[0], encod_apply)\n",
    "            x,y,w,h = face_boundry[0]\n",
    "            point1 , point2 = frame.shape[:-1]\n",
    "            cv2.rectangle(frame,(h,x),(y,w),(255,20,20),2)\n",
    "    \n",
    "        if match[0] == False:\n",
    "              cv2.putText(frame,\"Face Dose not match\",(20,50),1,cv2.FONT_HERSHEY_COMPLEX,(0,255,0),2)\n",
    "        elif match[0] == True:\n",
    "              cv2.putText(frame,\"Face Matched\",(100,50),1,cv2.FONT_HERSHEY_COMPLEX,(10,255,10),2)\n",
    "      \n",
    "    else:\n",
    "        for face in face_boundry:\n",
    "            x,y,w,h = face\n",
    "            cv2.rectangle(frame,(h,x),(y,w),(0,0,255),2)\n",
    "        cv2.putText(frame,\"Too many faces\",(50,50),1,cv2.FONT_HERSHEY_COMPLEX,(255,20,20),2)\n",
    "\n",
    "    cv2.imshow(\"camera\", frame)\n",
    "    if cv2.waitKey(1) == ord(\"q\"):\n",
    "          break\n",
    "cam.release()\n",
    "cv2.destroyAllWindows()"
   ]
  },
  {
   "cell_type": "code",
   "execution_count": null,
   "metadata": {
    "id": "XxVBIul3RK_W"
   },
   "outputs": [],
   "source": []
  }
 ],
 "metadata": {
  "colab": {
   "authorship_tag": "ABX9TyNdg3O65FzwnLYJZqS2N8Vw",
   "collapsed_sections": [],
   "mount_file_id": "1wfCUnuIealx5e0BCtIwwLcxqpeY_8gUC",
   "name": "Face_recognition.ipynb",
   "provenance": []
  },
  "kernelspec": {
   "display_name": "Python 3",
   "language": "python",
   "name": "python3"
  },
  "language_info": {
   "codemirror_mode": {
    "name": "ipython",
    "version": 3
   },
   "file_extension": ".py",
   "mimetype": "text/x-python",
   "name": "python",
   "nbconvert_exporter": "python",
   "pygments_lexer": "ipython3",
   "version": "3.9.4"
  }
 },
 "nbformat": 4,
 "nbformat_minor": 1
}
